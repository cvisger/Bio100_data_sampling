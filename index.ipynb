{
 "cells": [
  {
   "cell_type": "code",
   "execution_count": 116,
   "metadata": {},
   "outputs": [],
   "source": [
    "import random\n",
    "import scipy\n",
    "import matplotlib\n",
    "import seaborn as sns\n",
    "import numpy as np\n",
    "import statistics as stats\n",
    "import matplotlib.pyplot as plt"
   ]
  },
  {
   "cell_type": "markdown",
   "metadata": {},
   "source": [
    "## Create a list of 10 random numbers, with a mean of 10 and standard deviation of 1"
   ]
  },
  {
   "cell_type": "code",
   "execution_count": 249,
   "metadata": {},
   "outputs": [
    {
     "data": {
      "text/plain": [
       "[11.915185464461898,\n",
       " 11.873506853475453,\n",
       " 10.01125602912205,\n",
       " 9.149479965504057,\n",
       " 10.63033353504644,\n",
       " 10.19595431735921,\n",
       " 9.289585879532462,\n",
       " 8.77519106748134,\n",
       " 9.275178463591375,\n",
       " 11.164815787722103]"
      ]
     },
     "execution_count": 249,
     "metadata": {},
     "output_type": "execute_result"
    }
   ],
   "source": [
    "[random.gauss(10, 1) for _ in range(10)]"
   ]
  },
  {
   "cell_type": "markdown",
   "metadata": {},
   "source": [
    "## Save a population of 1000 numbers with mean = 10 and stdev = 1 and then plot and calc summary stats"
   ]
  },
  {
   "cell_type": "code",
   "execution_count": 257,
   "metadata": {},
   "outputs": [
    {
     "data": {
      "image/png": "[encoded data removed]",
      "text/plain": [
       "<matplotlib.figure.Figure at 0x1a12027518>"
      ]
     },
     "metadata": {},
     "output_type": "display_data"
    }
   ],
   "source": [
    "test = [random.gauss(10, 5) for _ in range(1000)]\n",
    "plt.hist(test)\n",
    "plt.show()"
   ]
  },
  {
   "cell_type": "code",
   "execution_count": 252,
   "metadata": {},
   "outputs": [
    {
     "data": {
      "text/plain": [
       "10.148815000886966"
      ]
     },
     "execution_count": 252,
     "metadata": {},
     "output_type": "execute_result"
    }
   ],
   "source": [
    "stats.mean(test)"
   ]
  },
  {
   "cell_type": "code",
   "execution_count": 253,
   "metadata": {},
   "outputs": [
    {
     "data": {
      "text/plain": [
       "4.857815340346393"
      ]
     },
     "execution_count": 253,
     "metadata": {},
     "output_type": "execute_result"
    }
   ],
   "source": [
    "stats.stdev(test)"
   ]
  },
  {
   "cell_type": "markdown",
   "metadata": {},
   "source": [
    "## Sub sample a population with a mean, stdev and sample size of your choosing and repeat summary stats"
   ]
  },
  {
   "cell_type": "code",
   "execution_count": 285,
   "metadata": {},
   "outputs": [],
   "source": [
    "#sample size -- edit me!\n",
    "mean = 10\n",
    "stddev = 3\n",
    "samplesize = 10 "
   ]
  },
  {
   "cell_type": "code",
   "execution_count": 289,
   "metadata": {},
   "outputs": [
    {
     "data": {
      "image/png": "[encoded data removed]",
      "text/plain": [
       "<matplotlib.figure.Figure at 0x1a126a04a8>"
      ]
     },
     "metadata": {},
     "output_type": "display_data"
    }
   ],
   "source": [
    "#run this, but don't edit\n",
    "nums = [random.gauss(mean, stddev) for _ in range(1000)]\n",
    "x = random.sample(nums, samplesize)\n",
    "mean = round(stats.mean(x),3)\n",
    "stdev = round(stats.stdev(x),3)\n",
    "plt.hist(x)\n",
    "plt.xlim(0,20)\n",
    "plt.title('sample size = '+str(samplesize)+'; mean = '+str(mean)+'; stdev = '+str(stdev))\n",
    "plt.show()"
   ]
  },
  {
   "cell_type": "markdown",
   "metadata": {},
   "source": [
    "# Using different sample sizes, compare means between populations that differ in mean and standard deviation"
   ]
  },
  {
   "cell_type": "markdown",
   "metadata": {},
   "source": [
    "## Generate populations"
   ]
  },
  {
   "cell_type": "code",
   "execution_count": 143,
   "metadata": {},
   "outputs": [],
   "source": [
    "pop1 = [random.gauss(8, 2) for _ in range(1000)]\n",
    "pop2 = [random.gauss(10, 2) for _ in range(1000)]\n",
    "pop3 = [random.gauss(12, 2) for _ in range(1000)]\n",
    "pop4 = [random.gauss(8, 4) for _ in range(1000)]\n",
    "pop5 = [random.gauss(10, 4) for _ in range(1000)]\n",
    "pop6 = [random.gauss(12, 4) for _ in range(1000)]\n"
   ]
  },
  {
   "cell_type": "markdown",
   "metadata": {},
   "source": [
    "## Pick two populations to compare and set your sample size (I've selected pop1 and 4, but please change)"
   ]
  },
  {
   "cell_type": "code",
   "execution_count": 244,
   "metadata": {},
   "outputs": [],
   "source": [
    "#edit me!!\n",
    "a = pop1\n",
    "b = pop4\n",
    "samplesize = 20"
   ]
  },
  {
   "cell_type": "markdown",
   "metadata": {},
   "source": [
    "### plot your subsampled populations alongside each other, calculate summary stats and compare means via ttest.  You can rerun this multiple times and see different results"
   ]
  },
  {
   "cell_type": "code",
   "execution_count": 247,
   "metadata": {},
   "outputs": [
    {
     "data": {
      "image/png": "[encoded data removed]",
      "text/plain": [
       "<matplotlib.figure.Figure at 0x1a12731898>"
      ]
     },
     "metadata": {},
     "output_type": "display_data"
    },
    {
     "name": "stdout",
     "output_type": "stream",
     "text": [
      "ttest pval = 0.379951163718\n"
     ]
    }
   ],
   "source": [
    "#don't change anything here unless you want to explore -- run it multi\n",
    "v1 = random.sample(a, samplesize)\n",
    "v2 = random.sample(b, samplesize)\n",
    "plt.figure()\n",
    "plt.xlim(0,20)\n",
    "plt.hist([v1, v2], histtype='step')\n",
    "plt.title('sample size = '+str(samplesize)+'; v1 mean='+str(round(stats.mean(v1), 2))+\n",
    "          ' stdev='+str(round(stats.stdev(v1), 2))+'; v2 mean='+str(round(stats.mean(v2), 2))+' stdev='+str(round(stats.stdev(v2), 2)))\n",
    "fig.tight_layout()\n",
    "plt.show()\n",
    "print('ttest pval = '+str(scipy.stats.ttest_ind(v1,v2, equal_var=False).pvalue))\n"
   ]
  }
 ],
 "metadata": {
  "kernelspec": {
   "display_name": "Python 3",
   "language": "python",
   "name": "python3"
  },
  "language_info": {
   "codemirror_mode": {
    "name": "ipython",
    "version": 3
   },
   "file_extension": ".py",
   "mimetype": "text/x-python",
   "name": "python",
   "nbconvert_exporter": "python",
   "pygments_lexer": "ipython3",
   "version": "3.6.3"
  }
 },
 "nbformat": 4,
 "nbformat_minor": 2
}
